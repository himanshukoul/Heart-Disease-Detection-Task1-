{
  "nbformat": 4,
  "nbformat_minor": 0,
  "metadata": {
    "colab": {
      "provenance": [],
      "authorship_tag": "ABX9TyOyjzVLEym4OkxEqlKpC670",
      "include_colab_link": true
    },
    "kernelspec": {
      "name": "python3",
      "display_name": "Python 3"
    },
    "language_info": {
      "name": "python"
    }
  },
  "cells": [
    {
      "cell_type": "markdown",
      "metadata": {
        "id": "view-in-github",
        "colab_type": "text"
      },
      "source": [
        "<a href=\"https://colab.research.google.com/github/himanshukoul/Heart-Disease-Detection-Task1-/blob/main/Heart_Pred.ipynb\" target=\"_parent\"><img src=\"https://colab.research.google.com/assets/colab-badge.svg\" alt=\"Open In Colab\"/></a>"
      ]
    },
    {
      "cell_type": "markdown",
      "source": [
        "# New Section"
      ],
      "metadata": {
        "id": "7K77oOU1PrVk"
      }
    },
    {
      "cell_type": "code",
      "execution_count": 2,
      "metadata": {
        "id": "Fjsc0TdITqab",
        "colab": {
          "base_uri": "https://localhost:8080/"
        },
        "outputId": "9d6bb56f-b11c-49ff-f723-1700c4e258c3"
      },
      "outputs": [
        {
          "name": "stdout",
          "output_type": "stream",
          "text": [
            "give a list with 13 params for heart disease\n",
            "[23,1,2,150,211,1,0,160,0,3.6,1,1,2]\n"
          ]
        }
      ],
      "source": [
        "import pandas as pd\n",
        "import numpy as np\n",
        "\n",
        "dataset = pd.read_csv(\"heart_disease_data.csv\")\n",
        "x = dataset.iloc[:,:-1].values\n",
        "y = dataset.iloc[:,-1].values\n",
        "\n",
        "from sklearn.model_selection import train_test_split\n",
        "x_train,x_test,y_train,y_test = train_test_split(x,y,test_size=0.25,random_state=0)\n",
        "\n",
        "from sklearn.preprocessing import StandardScaler\n",
        "sc = StandardScaler()\n",
        "x_train = sc.fit_transform(x_train)\n",
        "#dont fit testset as data will be leaked(overfitting)\n",
        "x_test = sc.transform(x_test)\n",
        "print(\"give a list with 13 params for heart disease\")\n",
        "#eg [23,1,2,150,211,1,0,160,0,3.6,1,1,2]\n",
        "x_input = eval(input())"
      ]
    },
    {
      "cell_type": "code",
      "source": [
        "from sklearn.linear_model import LogisticRegression\n",
        "classifier = LogisticRegression(random_state=0)\n",
        "classifier.fit(x_train,y_train)\n",
        "y_pred = classifier.predict(x_test)\n",
        "print(classifier.predict(sc.transform([x_input])))\n",
        "from sklearn.metrics import accuracy_score,confusion_matrix\n",
        "print(confusion_matrix(y_test,y_pred))\n",
        "print(accuracy_score(y_test,y_pred))"
      ],
      "metadata": {
        "colab": {
          "base_uri": "https://localhost:8080/"
        },
        "id": "rEKHtjkhTtmP",
        "outputId": "ee69a834-930b-4ff8-e39a-e67960e225a5"
      },
      "execution_count": 3,
      "outputs": [
        {
          "output_type": "stream",
          "name": "stdout",
          "text": [
            "[0]\n",
            "[[24  9]\n",
            " [ 4 39]]\n",
            "0.8289473684210527\n"
          ]
        }
      ]
    },
    {
      "cell_type": "code",
      "source": [
        "from sklearn.neighbors import KNeighborsClassifier\n",
        "classifier = KNeighborsClassifier(n_neighbors=5,metric='manhattan')\n",
        "classifier.fit(x_train,y_train)\n",
        "y_pred = classifier.predict(x_test)\n",
        "print(classifier.predict(sc.transform([x_input])))\n",
        "from sklearn.metrics import accuracy_score,confusion_matrix\n",
        "print(confusion_matrix(y_test,y_pred))\n",
        "print(accuracy_score(y_test,y_pred))"
      ],
      "metadata": {
        "colab": {
          "base_uri": "https://localhost:8080/"
        },
        "id": "3Zy-zbO1Ttut",
        "outputId": "08cd6f50-38a4-42ee-e928-ceb41b598fd6"
      },
      "execution_count": 4,
      "outputs": [
        {
          "output_type": "stream",
          "name": "stdout",
          "text": [
            "[1]\n",
            "[[24  9]\n",
            " [ 4 39]]\n",
            "0.8289473684210527\n"
          ]
        }
      ]
    },
    {
      "cell_type": "code",
      "source": [
        "from sklearn.svm import SVC\n",
        "classifier = SVC(kernel = 'rbf', random_state = 0)\n",
        "classifier.fit(x_train,y_train)\n",
        "y_pred = classifier.predict(x_test)\n",
        "print(classifier.predict(sc.transform([x_input])))\n",
        "from sklearn.metrics import accuracy_score,confusion_matrix\n",
        "print(confusion_matrix(y_test,y_pred))\n",
        "print(accuracy_score(y_test,y_pred))\n"
      ],
      "metadata": {
        "colab": {
          "base_uri": "https://localhost:8080/"
        },
        "id": "4AQjF5afV7p5",
        "outputId": "8e393002-3a2d-41f1-d226-1470c3147688"
      },
      "execution_count": 5,
      "outputs": [
        {
          "output_type": "stream",
          "name": "stdout",
          "text": [
            "[1]\n",
            "[[25  8]\n",
            " [ 3 40]]\n",
            "0.8552631578947368\n"
          ]
        }
      ]
    },
    {
      "cell_type": "code",
      "source": [
        "from sklearn.naive_bayes import GaussianNB\n",
        "classifier = GaussianNB()\n",
        "classifier.fit(x_train,y_train)\n",
        "y_pred = classifier.predict(x_test)\n",
        "print(classifier.predict(sc.transform([x_input])))\n",
        "from sklearn.metrics import accuracy_score,confusion_matrix\n",
        "print(confusion_matrix(y_test,y_pred))\n",
        "print(accuracy_score(y_test,y_pred))\n"
      ],
      "metadata": {
        "colab": {
          "base_uri": "https://localhost:8080/"
        },
        "id": "V28xLIvuXDqR",
        "outputId": "30fd5e81-9421-4fe6-dbb7-57597138694c"
      },
      "execution_count": 6,
      "outputs": [
        {
          "output_type": "stream",
          "name": "stdout",
          "text": [
            "[1]\n",
            "[[24  9]\n",
            " [ 4 39]]\n",
            "0.8289473684210527\n"
          ]
        }
      ]
    },
    {
      "cell_type": "code",
      "source": [
        "from sklearn.tree import DecisionTreeClassifier\n",
        "classifier = DecisionTreeClassifier(criterion = 'log_loss', random_state = 5)\n",
        "classifier.fit(x_train,y_train)\n",
        "y_pred = classifier.predict(x_test)\n",
        "print(classifier.predict(sc.transform([x_input])))\n",
        "from sklearn.metrics import accuracy_score,confusion_matrix\n",
        "print(confusion_matrix(y_test,y_pred))\n",
        "print(accuracy_score(y_test,y_pred))\n"
      ],
      "metadata": {
        "colab": {
          "base_uri": "https://localhost:8080/"
        },
        "id": "SVCH8bcaXjQ8",
        "outputId": "16f0e9d5-5b14-4b04-b54b-c87dda77b1ad"
      },
      "execution_count": 7,
      "outputs": [
        {
          "output_type": "stream",
          "name": "stdout",
          "text": [
            "[1]\n",
            "[[25  8]\n",
            " [ 6 37]]\n",
            "0.8157894736842105\n"
          ]
        }
      ]
    },
    {
      "cell_type": "code",
      "source": [
        "from sklearn.ensemble import RandomForestClassifier\n",
        "classifier = RandomForestClassifier(n_estimators = 19, criterion = 'entropy', random_state = 0)\n",
        "classifier.fit(x_train,y_train)\n",
        "y_pred = classifier.predict(x_test)\n",
        "print(classifier.predict(sc.transform([x_input])))\n",
        "from sklearn.metrics import accuracy_score,confusion_matrix\n",
        "print(confusion_matrix(y_test,y_pred))\n",
        "print(accuracy_score(y_test,y_pred))\n"
      ],
      "metadata": {
        "colab": {
          "base_uri": "https://localhost:8080/"
        },
        "id": "NxSfEbRFYXhG",
        "outputId": "aab07ad3-7a03-4ccb-8276-ba1bc7513e42"
      },
      "execution_count": 8,
      "outputs": [
        {
          "output_type": "stream",
          "name": "stdout",
          "text": [
            "[0]\n",
            "[[25  8]\n",
            " [ 3 40]]\n",
            "0.8552631578947368\n"
          ]
        }
      ]
    }
  ]
}